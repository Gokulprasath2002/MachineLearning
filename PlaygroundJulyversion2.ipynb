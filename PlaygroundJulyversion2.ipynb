{
 "cells": [
  {
   "cell_type": "code",
   "execution_count": 24,
   "id": "cff0cbfb",
   "metadata": {},
   "outputs": [],
   "source": [
    "import numpy as np\n",
    "import pandas as pd\n",
    "from sklearn.preprocessing import StandardScaler\n",
    "from sklearn.cluster import KMeans\n",
    "import matplotlib.pyplot as plt\n",
    "from sklearn.model_selection import train_test_split\n",
    "from sklearn.decomposition  import PCA\n",
    "import openpyxl\n",
    "from sklearn.mixture import GaussianMixture\n",
    "from sklearn.preprocessing import RobustScaler\n",
    "from sklearn.preprocessing import PowerTransformer"
   ]
  },
  {
   "cell_type": "code",
   "execution_count": 25,
   "id": "3c834f5d",
   "metadata": {},
   "outputs": [],
   "source": [
    "data=pd.read_csv(\"F:\\Kaggle\\Playground-July\\data.csv\")"
   ]
  },
  {
   "cell_type": "markdown",
   "id": "7826ebd7",
   "metadata": {},
   "source": [
    "Scaling the data"
   ]
  },
  {
   "cell_type": "code",
   "execution_count": 26,
   "id": "e7658c2b",
   "metadata": {},
   "outputs": [],
   "source": [
    "Robust=RobustScaler()\n",
    "Power=PowerTransformer()\n",
    "scaled1=Robust.fit_transform(data)\n",
    "scaled2=Power.fit_transform(scaled1)"
   ]
  },
  {
   "cell_type": "markdown",
   "id": "1e4dc509",
   "metadata": {},
   "source": [
    "Implementing Gaussian Mixture model for clustering"
   ]
  },
  {
   "cell_type": "code",
   "execution_count": 27,
   "id": "ded9d74f",
   "metadata": {},
   "outputs": [],
   "source": [
    "gmm=GaussianMixture(n_components=17)\n",
    "predicted=gmm.fit_predict(scaled2)"
   ]
  },
  {
   "cell_type": "code",
   "execution_count": 29,
   "id": "8aa88a67",
   "metadata": {},
   "outputs": [],
   "source": [
    "result=pd.DataFrame(predicted)"
   ]
  },
  {
   "cell_type": "markdown",
   "id": "edc52ba9",
   "metadata": {},
   "source": [
    "Exporting the result to a excel file"
   ]
  },
  {
   "cell_type": "code",
   "execution_count": 30,
   "id": "8c10f96e",
   "metadata": {},
   "outputs": [],
   "source": [
    "result.to_excel('sample3.xlsx',sheet_name='sample3',index=None,header=True)"
   ]
  }
 ],
 "metadata": {
  "kernelspec": {
   "display_name": "Python 3 (ipykernel)",
   "language": "python",
   "name": "python3"
  },
  "language_info": {
   "codemirror_mode": {
    "name": "ipython",
    "version": 3
   },
   "file_extension": ".py",
   "mimetype": "text/x-python",
   "name": "python",
   "nbconvert_exporter": "python",
   "pygments_lexer": "ipython3",
   "version": "3.9.12"
  }
 },
 "nbformat": 4,
 "nbformat_minor": 5
}
